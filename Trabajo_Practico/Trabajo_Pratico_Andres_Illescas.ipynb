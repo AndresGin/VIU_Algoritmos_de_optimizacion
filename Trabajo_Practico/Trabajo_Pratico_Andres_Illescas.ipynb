{
 "cells": [
  {
   "cell_type": "markdown",
   "metadata": {
    "id": "hVbXYX-RfPWh"
   },
   "source": [
    "# Algoritmos de optimización - Combinar cifras y operaciones <br>\n",
    "Nombre y Apellidos:  Johnny Andres Illescas Fernandez <br>\n",
    "Url: https://github.com/AndresGin/VIU_Algoritmos_de_optimizacion/tree/main/Trabajo_Practico\n",
    "\n",
    "\n",
    "\n",
    "Descripción del problema:\n",
    "\n",
    "\n",
    "\n",
    "Combinar cifras y operaciones • El problema consiste en analizar el siguiente problema y diseñar un algoritmo que lo resuelva.\n",
    "\n",
    "• Disponemos de las 9 cifras del 1 al 9 (excluimos el cero) y de los 4 signos básicos de las operaciones fundamentales: suma(+), resta(-), multiplicación(*) y división(/)\n",
    "\n",
    "• Debemos combinarlos alternativamente sin repetir ninguno de ellos para obtener una cantidad dada. Un ejemplo sería para obtener el 4: 4+2-6/3*1 = 4\n",
    "\n",
    "• Debe analizarse el problema para encontrar todos los valores enteros posibles planteando las siguientes cuestiones:-\n",
    "\n",
    "¿Qué valor máximo y mínimo se pueden obtener según las condiciones del problema?\n",
    "\n",
    "\n",
    "¿Es posible encontrar todos los valores enteros posibles entre dicho mínimo y máximo ?\n",
    "\n",
    "\n",
    "• Nota: Es posible usar la función de python “eval” para evaluar una expresión:\n",
    "\n",
    "\n",
    "\n",
    "\n",
    "\n",
    "\n",
    "                                        "
   ]
  },
  {
   "cell_type": "code",
   "execution_count": 31,
   "metadata": {
    "colab": {
     "base_uri": "https://localhost:8080/"
    },
    "id": "AiskKkzZfy4e",
    "outputId": "5dcce42b-d2bb-4c02-cbf4-714aa712c4a4"
   },
   "outputs": [
    {
     "name": "stdout",
     "output_type": "stream",
     "text": [
      "Valor mínimo: -69\n",
      "Valor máximo: 77\n",
      "Valores enteros posibles: [-69, -68, -67, -66, -65, -64, -63, -62, -61, -60, -59, -58, -57, -56, -55, -54, -53, -52, -51, -50, -49, -48, -47, -46, -45, -44, -43, -42, -41, -40, -39, -38, -37, -36, -35, -34, -33, -32, -31, -30, -29, -28, -27, -26, -25, -24, -23, -22, -21, -20, -19, -18, -17, -16, -15, -14, -13, -12, -11, -10, -9, -8, -7, -6, -5, -4, -3, -2, -1, 0, 1, 2, 3, 4, 5, 6, 7, 8, 9, 10, 11, 12, 13, 14, 15, 16, 17, 18, 19, 20, 21, 22, 23, 24, 25, 26, 27, 28, 29, 30, 31, 32, 33, 34, 35, 36, 37, 38, 39, 40, 41, 42, 43, 44, 45, 46, 47, 48, 49, 50, 51, 52, 53, 54, 55, 56, 57, 58, 59, 60, 61, 62, 63, 64, 65, 66, 67, 68, 69, 70, 71, 72, 73, 74, 75, 76, 77]\n"
     ]
    }
   ],
   "source": [
    "import itertools  # Importamos la librería itertools para generar permutaciones\n",
    "\n",
    "# Definir los números y las operaciones disponibles\n",
    "numbers = [str(i) for i in range(1, 10)]  # Lista de números del 1 al 9 como cadenas de texto\n",
    "operations = ['+', '-', '*', '/']  # Lista de operaciones básicas: suma, resta, multiplicación y división\n",
    "\n",
    "# Función para generar todas las expresiones posibles combinando los números y las operaciones\n",
    "def generate_expressions(numbers, operations):\n",
    "    expressions = []  # Lista vacía para almacenar las expresiones generadas\n",
    "    for ops in itertools.permutations(operations, 4):  # Generamos todas las permutaciones de las 4 operaciones\n",
    "        for nums in itertools.permutations(numbers, 5):  # Generamos todas las permutaciones de 5 números\n",
    "            # Creamos una expresión combinando 5 números y 4 operaciones\n",
    "            expr = f\"{nums[0]}{ops[0]}{nums[1]}{ops[1]}{nums[2]}{ops[2]}{nums[3]}{ops[3]}{nums[4]}\"\n",
    "            expressions.append(expr)  # Añadimos la expresión generada a la lista\n",
    "    return expressions  # Retornamos la lista de todas las expresiones generadas\n",
    "\n",
    "# Generar todas las expresiones posibles\n",
    "expressions = generate_expressions(numbers, operations)\n",
    "\n",
    "# Evaluar cada expresión y obtener los resultados enteros\n",
    "results = set()  # Usamos un set para almacenar resultados únicos\n",
    "for expr in expressions:\n",
    "    try:\n",
    "        result = eval(expr)  # Evaluamos la expresión usando la función eval()\n",
    "        if result.is_integer():  # Comprobamos si el resultado es un número entero\n",
    "            results.add(int(result))  # Si es entero, lo agregamos al set como entero\n",
    "    except ZeroDivisionError:  # Si ocurre una división por cero, la ignoramos\n",
    "        continue\n",
    "\n",
    "# Encontrar el valor mínimo y máximo entre los resultados\n",
    "min_result = min(results)  # Obtenemos el valor mínimo de los resultados\n",
    "max_result = max(results)  # Obtenemos el valor máximo de los resultados\n",
    "\n",
    "# Mostrar los resultados: el mínimo, el máximo y todos los valores enteros posibles\n",
    "print(f\"Valor mínimo: {min_result}\")\n",
    "print(f\"Valor máximo: {max_result}\")\n",
    "print(f\"Valores enteros posibles: {sorted(results)}\")  # Imprimimos los resultados ordenados"
   ]
  },
  {
   "cell_type": "markdown",
   "metadata": {
    "id": "3_-exlrTgLd-"
   },
   "source": [
    "#¿Cuantas posibilidades hay sin tener en cuenta las restricciones?\n",
    "\n"
   ]
  },
  {
   "cell_type": "markdown",
   "metadata": {
    "id": "WfCUqJyKhPcw"
   },
   "source": [
    "Respuesta"
   ]
  },
  {
   "cell_type": "code",
   "execution_count": 13,
   "metadata": {
    "colab": {
     "base_uri": "https://localhost:8080/"
    },
    "id": "iq6Fe32MgpDX",
    "outputId": "8ad6567a-e630-42ea-9ff7-0e123fdb2cc9"
   },
   "outputs": [
    {
     "name": "stdout",
     "output_type": "stream",
     "text": [
      "El número total de combinaciones posibles sin restricciones es: 15116544\n"
     ]
    }
   ],
   "source": [
    "import itertools\n",
    "\n",
    "# Definir los números y las operaciones\n",
    "numbers = [str(i) for i in range(1, 10)]  # Números del 1 al 9\n",
    "operations = ['+', '-', '*', '/']  # Operaciones básicas\n",
    "\n",
    "# Función para generar las expresiones posibles y contar las combinaciones\n",
    "def count_possibilities_without_restrictions(numbers, operations):\n",
    "    count = 0\n",
    "    # Iterar sobre todas las combinaciones de 5 números con repetición\n",
    "    for nums in itertools.product(numbers, repeat=5):\n",
    "        # Iterar sobre todas las combinaciones de 4 operaciones con repetición\n",
    "        for ops in itertools.product(operations, repeat=4):\n",
    "            # Construir la expresión alternando números y operaciones\n",
    "            expression = f\"{nums[0]}{ops[0]}{nums[1]}{ops[1]}{nums[2]}{ops[2]}{nums[3]}{ops[3]}{nums[4]}\"\n",
    "            count += 1  # Contamos cada combinación válida\n",
    "    return count\n",
    "\n",
    "# Obtener el número total de combinaciones posibles sin restricciones\n",
    "total_combinations_without_restrictions = count_possibilities_without_restrictions(numbers, operations)\n",
    "\n",
    "# Mostrar el número total de combinaciones\n",
    "print(f\"El número total de combinaciones posibles sin restricciones es: {total_combinations_without_restrictions}\")"
   ]
  },
  {
   "cell_type": "markdown",
   "metadata": {
    "id": "npMk3IvgYYM8"
   },
   "source": [
    "#¿Cuantas posibilidades hay teniendo en cuenta todas las restricciones."
   ]
  },
  {
   "cell_type": "code",
   "execution_count": 14,
   "metadata": {
    "colab": {
     "base_uri": "https://localhost:8080/"
    },
    "id": "awnU2P0DZORk",
    "outputId": "d82be381-0edd-49ca-9dbb-6a20dd164f97"
   },
   "outputs": [
    {
     "name": "stdout",
     "output_type": "stream",
     "text": [
      "El número total de combinaciones posibles es: 362880\n"
     ]
    }
   ],
   "source": [
    "import itertools\n",
    "\n",
    "# Definir los números y las operaciones\n",
    "numbers = [str(i) for i in range(1, 10)]  # Números del 1 al 9\n",
    "operations = ['+', '-', '*', '/']  # Operaciones básicas\n",
    "\n",
    "# Función para generar las expresiones posibles y contar las combinaciones\n",
    "def count_possibilities(numbers, operations):\n",
    "    count = 0\n",
    "    # Iterar sobre las permutaciones de 5 números de la lista de 9\n",
    "    for nums in itertools.permutations(numbers, 5):\n",
    "        # Iterar sobre las permutaciones de 4 operaciones de la lista de 4\n",
    "        for ops in itertools.permutations(operations, 4):\n",
    "            # Construir la expresión alternando números y operaciones\n",
    "            expression = f\"{nums[0]}{ops[0]}{nums[1]}{ops[1]}{nums[2]}{ops[2]}{nums[3]}{ops[3]}{nums[4]}\"\n",
    "            count += 1  # Contamos cada combinación válida\n",
    "    return count\n",
    "\n",
    "# Obtener el número total de combinaciones posibles\n",
    "total_combinations = count_possibilities(numbers, operations)\n",
    "\n",
    "# Mostrar el número total de combinaciones\n",
    "print(f\"El número total de combinaciones posibles es: {total_combinations}\")"
   ]
  },
  {
   "cell_type": "markdown",
   "metadata": {
    "id": "dzynfVJahHoY"
   },
   "source": [
    "#Modelo para el espacio de soluciones<br>\n",
    "###¿Cual es la estructura de datos que mejor se adapta al problema?\n",
    "Argumentalo.(Es posible que hayas elegido una al principio y veas la necesidad de cambiar, arguentalo)\n"
   ]
  },
  {
   "cell_type": "markdown",
   "metadata": {
    "id": "xFIJrOwKi2Ti"
   },
   "source": [
    "Respuesta"
   ]
  },
  {
   "cell_type": "markdown",
   "metadata": {
    "id": "YwEu4a85c2c5"
   },
   "source": [
    "El espacio de soluciones en este problema involucra la generación de combinaciones de números del 1 al 9 con operaciones básicas, tanto con como sin restricciones.\n",
    "\n",
    "Para generar todas las expresiones posibles y evaluar sus resultados, una estructura de datos que se adapta bien es el conjunto (set), ya que nos permite almacenar los resultados sin duplicados y realizar búsquedas eficientes.\n",
    "\n",
    "Estructura de datos:\n",
    "\n",
    "Inicialmente, podría parecer que una lista sería adecuada, ya que se necesita almacenar todas las combinaciones generadas. Sin embargo, como el objetivo es encontrar expresiones únicas sin repetir resultados, un set se adapta mejor. Los sets permiten que solo se almacenen valores únicos, lo que asegura que no haya resultados redundantes. Además, las operaciones de inserción y búsqueda en un set son generalmente más rápidas que en una lista.\n",
    "\n",
    "\n",
    "En resumen, la estructura más adecuada para este problema es un set, ya que garantiza la unicidad de los resultados y optimiza la eficiencia en la evaluación de expresiones."
   ]
  },
  {
   "cell_type": "markdown",
   "metadata": {
    "id": "7Z9U2W7bi-XS"
   },
   "source": [
    "#Según el modelo para el espacio de soluciones<br>\n",
    "\n",
    "##¿Cual es la función objetivo?\n",
    "\n",
    "##¿Es un problema de maximización o minimización?"
   ]
  },
  {
   "cell_type": "markdown",
   "metadata": {
    "id": "BWkaudXGdYiD"
   },
   "source": [
    "###Función objetivo:\n",
    "\n",
    "La función objetivo en este modelo se refiere al valor que se desea obtener a partir de las combinaciones de números y operaciones, la función objetivo es evaluar las expresiones matemáticas generadas para obtener el resultado deseado.\n",
    "\n",
    "Dependiendo de las condiciones o requerimientos adicionales del problema, la función objetivo podría ser simplemente la evaluación de la expresión para comprobar si se ajusta a ciertos criterios como un valor numérico específico, un rango o un patrón deseado.\n",
    "\n",
    "###¿Es un problema de maximización o minimización?\n",
    "\n",
    "Estamos buscando el rango de valores posibles que se pueden obtener al evaluar todas las combinaciones de números y operaciones, el enfoque se adapta mejor a un problema de maximización, ya que estamos interesados en encontrar tanto el valor máximo que pueden ser generados por las combinaciones.\n",
    "\n",
    "\t•\tMaximización: Si se busca el valor máximo que se puede obtener al evaluar las expresiones generadas.\n",
    "  "
   ]
  },
  {
   "cell_type": "markdown",
   "metadata": {
    "id": "rlnTYgY1j6I2"
   },
   "source": [
    "#Diseña un algoritmo para resolver el problema por fuerza bruta"
   ]
  },
  {
   "cell_type": "markdown",
   "metadata": {
    "id": "70rDgxYXkC8r"
   },
   "source": [
    "Respuesta"
   ]
  },
  {
   "cell_type": "code",
   "execution_count": 24,
   "metadata": {
    "colab": {
     "base_uri": "https://localhost:8080/"
    },
    "id": "CJb5sQ0qkENy",
    "outputId": "43329455-e476-49c3-ed1c-f816ac9ba653"
   },
   "outputs": [
    {
     "name": "stdout",
     "output_type": "stream",
     "text": [
      "Valor mínimo: -69\n",
      "Valor máximo: 77\n",
      "Valores enteros posibles: [-69, -68, -67, -66, -65, -64, -63, -62, -61, -60, -59, -58, -57, -56, -55, -54, -53, -52, -51, -50, -49, -48, -47, -46, -45, -44, -43, -42, -41, -40, -39, -38, -37, -36, -35, -34, -33, -32, -31, -30, -29, -28, -27, -26, -25, -24, -23, -22, -21, -20, -19, -18, -17, -16, -15, -14, -13, -12, -11, -10, -9, -8, -7, -6, -5, -4, -3, -2, -1, 0, 1, 2, 3, 4, 5, 6, 7, 8, 9, 10, 11, 12, 13, 14, 15, 16, 17, 18, 19, 20, 21, 22, 23, 24, 25, 26, 27, 28, 29, 30, 31, 32, 33, 34, 35, 36, 37, 38, 39, 40, 41, 42, 43, 44, 45, 46, 47, 48, 49, 50, 51, 52, 53, 54, 55, 56, 57, 58, 59, 60, 61, 62, 63, 64, 65, 66, 67, 68, 69, 70, 71, 72, 73, 74, 75, 76, 77]\n"
     ]
    }
   ],
   "source": [
    "import itertools  # Importamos la librería itertools para generar permutaciones\n",
    "\n",
    "# Definir los números y las operaciones disponibles\n",
    "numbers = [str(i) for i in range(1, 10)]  # Lista de números del 1 al 9 como cadenas de texto\n",
    "operations = ['+', '-', '*', '/']  # Lista de operaciones básicas: suma, resta, multiplicación y división\n",
    "\n",
    "# Función para generar todas las expresiones posibles combinando los números y las operaciones\n",
    "def generate_expressions(numbers, operations):\n",
    "    expressions = []  # Lista vacía para almacenar las expresiones generadas\n",
    "    for ops in itertools.permutations(operations, 4):  # Generamos todas las permutaciones de las 4 operaciones\n",
    "        for nums in itertools.permutations(numbers, 5):  # Generamos todas las permutaciones de 5 números\n",
    "            # Creamos una expresión combinando 5 números y 4 operaciones\n",
    "            expr = f\"{nums[0]}{ops[0]}{nums[1]}{ops[1]}{nums[2]}{ops[2]}{nums[3]}{ops[3]}{nums[4]}\"\n",
    "            expressions.append(expr)  # Añadimos la expresión generada a la lista\n",
    "    return expressions  # Retornamos la lista de todas las expresiones generadas\n",
    "\n",
    "# Generar todas las expresiones posibles\n",
    "expressions = generate_expressions(numbers, operations)\n",
    "\n",
    "# Evaluar cada expresión y obtener los resultados enteros\n",
    "results = set()  # Usamos un set para almacenar resultados únicos\n",
    "for expr in expressions:\n",
    "    try:\n",
    "        result = eval(expr)  # Evaluamos la expresión usando la función eval()\n",
    "        if result.is_integer():  # Comprobamos si el resultado es un número entero\n",
    "            results.add(int(result))  # Si es entero, lo agregamos al set como entero\n",
    "    except ZeroDivisionError:  # Si ocurre una división por cero, la ignoramos\n",
    "        continue\n",
    "\n",
    "# Encontrar el valor mínimo y máximo entre los resultados\n",
    "min_result = min(results)  # Obtenemos el valor mínimo de los resultados\n",
    "max_result = max(results)  # Obtenemos el valor máximo de los resultados\n",
    "\n",
    "# Mostrar los resultados: el mínimo, el máximo y todos los valores enteros posibles\n",
    "print(f\"Valor mínimo: {min_result}\")\n",
    "print(f\"Valor máximo: {max_result}\")\n",
    "print(f\"Valores enteros posibles: {sorted(results)}\")  # Imprimimos los resultados ordenados"
   ]
  },
  {
   "cell_type": "markdown",
   "metadata": {
    "id": "tgrnsC2nkFa8"
   },
   "source": [
    "#Calcula la complejidad del algoritmo por fuerza bruta"
   ]
  },
  {
   "cell_type": "markdown",
   "metadata": {
    "id": "9eUd3xwckP68"
   },
   "source": [
    "Respuesta"
   ]
  },
  {
   "cell_type": "code",
   "execution_count": 26,
   "metadata": {
    "colab": {
     "base_uri": "https://localhost:8080/"
    },
    "id": "rvZWwL-ckRST",
    "outputId": "21fba5ab-6338-4ff3-ffb3-ee0db1e4889d"
   },
   "outputs": [
    {
     "name": "stdout",
     "output_type": "stream",
     "text": [
      "Valor mínimo: -69\n",
      "Valor máximo: 77\n",
      "Valores enteros posibles: [-69, -68, -67, -66, -65, -64, -63, -62, -61, -60, -59, -58, -57, -56, -55, -54, -53, -52, -51, -50, -49, -48, -47, -46, -45, -44, -43, -42, -41, -40, -39, -38, -37, -36, -35, -34, -33, -32, -31, -30, -29, -28, -27, -26, -25, -24, -23, -22, -21, -20, -19, -18, -17, -16, -15, -14, -13, -12, -11, -10, -9, -8, -7, -6, -5, -4, -3, -2, -1, 0, 1, 2, 3, 4, 5, 6, 7, 8, 9, 10, 11, 12, 13, 14, 15, 16, 17, 18, 19, 20, 21, 22, 23, 24, 25, 26, 27, 28, 29, 30, 31, 32, 33, 34, 35, 36, 37, 38, 39, 40, 41, 42, 43, 44, 45, 46, 47, 48, 49, 50, 51, 52, 53, 54, 55, 56, 57, 58, 59, 60, 61, 62, 63, 64, 65, 66, 67, 68, 69, 70, 71, 72, 73, 74, 75, 76, 77]\n",
      "Tiempo de ejecución: 3.0429 segundos\n",
      "Total de combinaciones: 362880\n",
      "Complejidad total: O(362880)\n"
     ]
    }
   ],
   "source": [
    "import itertools\n",
    "import time\n",
    "\n",
    "# Definir los números y las operaciones\n",
    "numbers = [str(i) for i in range(1, 10)]\n",
    "operations = ['+', '-', '*', '/']\n",
    "\n",
    "# Función para generar las expresiones posibles\n",
    "def generate_expressions(numbers, operations):\n",
    "    expressions = []\n",
    "    for ops in itertools.permutations(operations, 4):  # Elegimos 4 operaciones\n",
    "        for nums in itertools.permutations(numbers, 5):  # Elegimos 5 números\n",
    "            expr = f\"{nums[0]}{ops[0]}{nums[1]}{ops[1]}{nums[2]}{ops[2]}{nums[3]}{ops[3]}{nums[4]}\"\n",
    "            expressions.append(expr)\n",
    "    return expressions\n",
    "\n",
    "# Iniciar el cronómetro\n",
    "start_time = time.time()\n",
    "\n",
    "# Generar todas las expresiones posibles\n",
    "expressions = generate_expressions(numbers, operations)\n",
    "\n",
    "# Evaluar las expresiones y encontrar los resultados enteros\n",
    "results = set()\n",
    "for expr in expressions:\n",
    "    try:\n",
    "        result = eval(expr)\n",
    "        if result.is_integer():\n",
    "            results.add(int(result))\n",
    "    except ZeroDivisionError:\n",
    "        continue\n",
    "\n",
    "# Encontrar el mínimo y máximo\n",
    "min_result = min(results)\n",
    "max_result = max(results)\n",
    "\n",
    "# Tiempo de ejecución\n",
    "end_time = time.time()\n",
    "execution_time = end_time - start_time\n",
    "\n",
    "# Mostrar resultados\n",
    "print(f\"Valor mínimo: {min_result}\")\n",
    "print(f\"Valor máximo: {max_result}\")\n",
    "print(f\"Valores enteros posibles: {sorted(results)}\")\n",
    "print(f\"Tiempo de ejecución: {execution_time:.4f} segundos\")\n",
    "\n",
    "# Complejidad\n",
    "num_combinations = len(expressions)\n",
    "print(f\"Total de combinaciones: {num_combinations}\")\n",
    "print(f\"Complejidad total: O({num_combinations})\")"
   ]
  },
  {
   "cell_type": "markdown",
   "metadata": {
    "id": "txbrmLmskReM"
   },
   "source": [
    "#Diseña un algoritmo que mejore la complejidad del algortimo por fuerza bruta.\n",
    "###Argumenta porque crees que mejora el algoritmo por fuerza bruta"
   ]
  },
  {
   "cell_type": "markdown",
   "metadata": {
    "id": "hLrVwt5QkZPD"
   },
   "source": [
    "Respuesta"
   ]
  },
  {
   "cell_type": "code",
   "execution_count": 33,
   "metadata": {
    "colab": {
     "base_uri": "https://localhost:8080/"
    },
    "id": "m1eyM21Vkabg",
    "outputId": "41ddb200-bde5-4f35-a781-1f59636db041"
   },
   "outputs": [
    {
     "name": "stdout",
     "output_type": "stream",
     "text": [
      "Valor mínimo: -69\n",
      "Valor máximo: 77\n",
      "Valores enteros posibles: [-69, -68, -67, -66, -65, -64, -63, -62, -61, -60, -59, -58, -57, -56, -55, -54, -53, -52, -51, -50, -49, -48, -47, -46, -45, -44, -43, -42, -41, -40, -39, -38, -37, -36, -35, -34, -33, -32, -31, -30, -29, -28, -27, -26, -25, -24, -23, -22, -21, -20, -19, -18, -17, -16, -15, -14, -13, -12, -11, -10, -9, -8, -7, -6, -5, -4, -3, -2, -1, 0, 1, 2, 3, 4, 5, 6, 7, 8, 9, 10, 11, 12, 13, 14, 15, 16, 17, 18, 19, 20, 21, 22, 23, 24, 25, 26, 27, 28, 29, 30, 31, 32, 33, 34, 35, 36, 37, 38, 39, 40, 41, 42, 43, 44, 45, 46, 47, 48, 49, 50, 51, 52, 53, 54, 55, 56, 57, 58, 59, 60, 61, 62, 63, 64, 65, 66, 67, 68, 69, 70, 71, 72, 73, 74, 75, 76, 77]\n"
     ]
    }
   ],
   "source": [
    "import itertools  # Importamos la librería itertools para generar permutaciones\n",
    "\n",
    "# Definir los números y las operaciones disponibles\n",
    "numbers = [str(i) for i in range(1, 10)]  # Lista de números del 1 al 9 como cadenas de texto\n",
    "operations = ['+', '-', '*', '/']  # Lista de operaciones básicas: suma, resta, multiplicación y división\n",
    "\n",
    "# Función para generar todas las expresiones posibles combinando los números y las operaciones\n",
    "def generate_expressions(numbers, operations):\n",
    "    for ops in itertools.permutations(operations, 4):  # Generamos todas las permutaciones de las 4 operaciones\n",
    "        for nums in itertools.permutations(numbers, 5):  # Generamos todas las permutaciones de 5 números\n",
    "            # Creamos una expresión combinando 5 números y 4 operaciones\n",
    "            expr = f\"{nums[0]}{ops[0]}{nums[1]}{ops[1]}{nums[2]}{ops[2]}{nums[3]}{ops[3]}{nums[4]}\"\n",
    "            try:\n",
    "                result = eval(expr)  # Evaluamos la expresión usando la función eval()\n",
    "                if result.is_integer():  # Comprobamos si el resultado es un número entero\n",
    "                    yield int(result)  # Si es entero, lo devolvemos como un valor de la expresión\n",
    "            except ZeroDivisionError:  # Si ocurre una división por cero, la ignoramos\n",
    "                continue\n",
    "\n",
    "# Generar las expresiones y evaluar los resultados en el mismo paso\n",
    "results = set(generate_expressions(numbers, operations))  # Usamos un set para almacenar resultados únicos\n",
    "\n",
    "# Encontrar el valor mínimo y máximo entre los resultados\n",
    "min_result = min(results)  # Obtenemos el valor mínimo de los resultados\n",
    "max_result = max(results)  # Obtenemos el valor máximo de los resultados\n",
    "\n",
    "# Mostrar los resultados: el mínimo, el máximo y todos los valores enteros posibles\n",
    "print(f\"Valor mínimo: {min_result}\")\n",
    "print(f\"Valor máximo: {max_result}\")\n",
    "print(f\"Valores enteros posibles: {sorted(results)}\")  # Imprimimos los resultados ordenados"
   ]
  },
  {
   "cell_type": "markdown",
   "metadata": {
    "id": "c61ytYKftMAQ"
   },
   "source": [
    "\t•\tEficiencia en memoria: El uso de generadores evita la necesidad de almacenar todas las expresiones generadas, lo que reduce la sobrecarga de memoria.\n",
    "\t•\tMejor rendimiento: Al eliminar combinaciones redundantes y evaluar de manera incremental, el código es más rápido en términos de tiempo de ejecución.\n",
    "\t•\tCódigo más limpio y eficiente: El código es más directo y fácil de entender, lo que facilita el mantenimiento y la ampliación."
   ]
  },
  {
   "cell_type": "markdown",
   "metadata": {
    "id": "eGDB4K6uk1iN"
   },
   "source": [
    "#Calcula la complejidad del algoritmo"
   ]
  },
  {
   "cell_type": "markdown",
   "metadata": {
    "id": "NhpTh_BPk1ms"
   },
   "source": [
    "Respuesta"
   ]
  },
  {
   "cell_type": "code",
   "execution_count": 34,
   "metadata": {
    "colab": {
     "base_uri": "https://localhost:8080/"
    },
    "id": "nREzhkStlCq8",
    "outputId": "469f740d-66e5-4b13-a290-5334185f81a3"
   },
   "outputs": [
    {
     "name": "stdout",
     "output_type": "stream",
     "text": [
      "Total de combinaciones: 362880\n",
      "Complejidad total: O(362880)\n",
      "Valor mínimo: -69\n",
      "Valor máximo: 77\n",
      "Valores enteros posibles: [-69, -68, -67, -66, -65, -64, -63, -62, -61, -60, -59, -58, -57, -56, -55, -54, -53, -52, -51, -50, -49, -48, -47, -46, -45, -44, -43, -42, -41, -40, -39, -38, -37, -36, -35, -34, -33, -32, -31, -30, -29, -28, -27, -26, -25, -24, -23, -22, -21, -20, -19, -18, -17, -16, -15, -14, -13, -12, -11, -10, -9, -8, -7, -6, -5, -4, -3, -2, -1, 0, 1, 2, 3, 4, 5, 6, 7, 8, 9, 10, 11, 12, 13, 14, 15, 16, 17, 18, 19, 20, 21, 22, 23, 24, 25, 26, 27, 28, 29, 30, 31, 32, 33, 34, 35, 36, 37, 38, 39, 40, 41, 42, 43, 44, 45, 46, 47, 48, 49, 50, 51, 52, 53, 54, 55, 56, 57, 58, 59, 60, 61, 62, 63, 64, 65, 66, 67, 68, 69, 70, 71, 72, 73, 74, 75, 76, 77]\n"
     ]
    }
   ],
   "source": [
    "import itertools  # Importamos la librería itertools para generar permutaciones\n",
    "\n",
    "# Definir los números y las operaciones disponibles\n",
    "numbers = [str(i) for i in range(1, 10)]  # Lista de números del 1 al 9 como cadenas de texto\n",
    "operations = ['+', '-', '*', '/']  # Lista de operaciones básicas: suma, resta, multiplicación y división\n",
    "\n",
    "# Función para generar todas las expresiones posibles combinando los números y las operaciones\n",
    "def generate_expressions(numbers, operations):\n",
    "    for ops in itertools.permutations(operations, 4):  # Generamos todas las permutaciones de las 4 operaciones\n",
    "        for nums in itertools.permutations(numbers, 5):  # Generamos todas las permutaciones de 5 números\n",
    "            # Creamos una expresión combinando 5 números y 4 operaciones\n",
    "            expr = f\"{nums[0]}{ops[0]}{nums[1]}{ops[1]}{nums[2]}{ops[2]}{nums[3]}{ops[3]}{nums[4]}\"\n",
    "            try:\n",
    "                result = eval(expr)  # Evaluamos la expresión usando la función eval()\n",
    "                if result.is_integer():  # Comprobamos si el resultado es un número entero\n",
    "                    yield int(result)  # Si es entero, lo devolvemos como un valor de la expresión\n",
    "            except ZeroDivisionError:  # Si ocurre una división por cero, la ignoramos\n",
    "                continue\n",
    "\n",
    "# Generar las expresiones y evaluar los resultados en el mismo paso\n",
    "results = set(generate_expressions(numbers, operations))  # Usamos un set para almacenar resultados únicos\n",
    "\n",
    "# Calculamos el número total de combinaciones\n",
    "num_operations_permutations = 24  # 4! = 24\n",
    "num_number_permutations = 15120  # P(9, 5) = 15120\n",
    "total_combinations = num_operations_permutations * num_number_permutations\n",
    "\n",
    "# Mostrar el número total de combinaciones\n",
    "print(f\"Total de combinaciones: {total_combinations}\")\n",
    "print(f\"Complejidad total: O({total_combinations})\")\n",
    "\n",
    "# Encontrar el valor mínimo y máximo entre los resultados\n",
    "min_result = min(results)  # Obtenemos el valor mínimo de los resultados\n",
    "max_result = max(results)  # Obtenemos el valor máximo de los resultados\n",
    "\n",
    "# Mostrar los resultados: el mínimo, el máximo y todos los valores enteros posibles\n",
    "print(f\"Valor mínimo: {min_result}\")\n",
    "print(f\"Valor máximo: {max_result}\")\n",
    "print(f\"Valores enteros posibles: {sorted(results)}\")  # Imprimimos los resultados ordenados"
   ]
  },
  {
   "cell_type": "markdown",
   "metadata": {
    "id": "3M6QjTsSkmYe"
   },
   "source": [
    "#Según el problema (y tenga sentido), diseña un juego de datos de entrada aleatorios"
   ]
  },
  {
   "cell_type": "markdown",
   "metadata": {
    "id": "Jc3_OlyNkvjZ"
   },
   "source": [
    "Respuesta"
   ]
  },
  {
   "cell_type": "code",
   "execution_count": 37,
   "metadata": {
    "colab": {
     "base_uri": "https://localhost:8080/"
    },
    "id": "sJ-N2etjkyWc",
    "outputId": "d4659132-a814-495a-a3b7-72dcf9dcdaff"
   },
   "outputs": [
    {
     "name": "stdout",
     "output_type": "stream",
     "text": [
      "Expresión generada: 4+8/3*5-1\n",
      "Números seleccionados: [4, 8, 3, 5, 1]\n",
      "Operaciones seleccionadas: ['+', '/', '*', '-']\n"
     ]
    }
   ],
   "source": [
    "import random\n",
    "\n",
    "# Definir los números y las operaciones disponibles\n",
    "numbers = [1, 2, 3, 4, 5, 6, 7, 8, 9]  # Lista de números del 1 al 9\n",
    "operations = ['+', '-', '*', '/']  # Lista de operaciones básicas: suma, resta, multiplicación y división\n",
    "\n",
    "# Función para generar un conjunto aleatorio de 5 números y 4 operaciones\n",
    "def generate_random_data():\n",
    "    # Elegir aleatoriamente 5 números del 1 al 9, sin repetición\n",
    "    selected_numbers = random.sample(numbers, 5)\n",
    "\n",
    "    # Elegir aleatoriamente 4 operaciones de las 4 posibles\n",
    "    selected_operations = random.sample(operations, 4)\n",
    "\n",
    "    # Construir la expresión\n",
    "    expr = f\"{selected_numbers[0]}{selected_operations[0]}{selected_numbers[1]}\" \\\n",
    "           f\"{selected_operations[1]}{selected_numbers[2]}\" \\\n",
    "           f\"{selected_operations[2]}{selected_numbers[3]}\" \\\n",
    "           f\"{selected_operations[3]}{selected_numbers[4]}\"\n",
    "\n",
    "    return expr, selected_numbers, selected_operations\n",
    "\n",
    "# Generar un conjunto aleatorio de datos\n",
    "random_expr, random_numbers, random_operations = generate_random_data()\n",
    "\n",
    "# Mostrar el conjunto de datos generado\n",
    "print(f\"Expresión generada: {random_expr}\")\n",
    "print(f\"Números seleccionados: {random_numbers}\")\n",
    "print(f\"Operaciones seleccionadas: {random_operations}\")"
   ]
  },
  {
   "cell_type": "markdown",
   "metadata": {
    "id": "zy5ZROmjlGo1"
   },
   "source": [
    "#Aplica el algoritmo al juego de datos generado"
   ]
  },
  {
   "cell_type": "markdown",
   "metadata": {
    "id": "_Cmj-PVylMsa"
   },
   "source": [
    "Respuesta"
   ]
  },
  {
   "cell_type": "code",
   "execution_count": 38,
   "metadata": {
    "colab": {
     "base_uri": "https://localhost:8080/"
    },
    "id": "Jkx8GeiYlUz1",
    "outputId": "01542e51-b142-43a4-b4d1-bd2ae3a030d0"
   },
   "outputs": [
    {
     "name": "stdout",
     "output_type": "stream",
     "text": [
      "Expresión generada: 9+1-3/4*7\n",
      "Números seleccionados: [9, 1, 3, 4, 7]\n",
      "Operaciones seleccionadas: ['+', '-', '/', '*']\n",
      "La expresión no generó un resultado válido (posiblemente por división por cero).\n"
     ]
    }
   ],
   "source": [
    "import random\n",
    "import itertools\n",
    "\n",
    "# Definir los números y las operaciones disponibles\n",
    "numbers = [1, 2, 3, 4, 5, 6, 7, 8, 9]  # Lista de números del 1 al 9\n",
    "operations = ['+', '-', '*', '/']  # Lista de operaciones básicas: suma, resta, multiplicación y división\n",
    "\n",
    "# Función para generar un conjunto aleatorio de 5 números y 4 operaciones\n",
    "def generate_random_data():\n",
    "    # Elegir aleatoriamente 5 números del 1 al 9, sin repetición\n",
    "    selected_numbers = random.sample(numbers, 5)\n",
    "\n",
    "    # Elegir aleatoriamente 4 operaciones de las 4 posibles\n",
    "    selected_operations = random.sample(operations, 4)\n",
    "\n",
    "    # Construir la expresión\n",
    "    expr = f\"{selected_numbers[0]}{selected_operations[0]}{selected_numbers[1]}\" \\\n",
    "           f\"{selected_operations[1]}{selected_numbers[2]}\" \\\n",
    "           f\"{selected_operations[2]}{selected_numbers[3]}\" \\\n",
    "           f\"{selected_operations[3]}{selected_numbers[4]}\"\n",
    "\n",
    "    return expr, selected_numbers, selected_operations\n",
    "\n",
    "# Función para evaluar las expresiones de manera controlada\n",
    "def evaluate_expression(nums, ops):\n",
    "    # Crear la expresión\n",
    "    expr = f\"{nums[0]}{ops[0]}{nums[1]}{ops[1]}{nums[2]}{ops[2]}{nums[3]}{ops[3]}{nums[4]}\"\n",
    "\n",
    "    try:\n",
    "        result = eval(expr)  # Evaluamos la expresión usando la función eval()\n",
    "        if result.is_integer():  # Comprobamos si el resultado es un número entero\n",
    "            return int(result)  # Si es entero, lo devolvemos como un valor de la expresión\n",
    "    except ZeroDivisionError:  # Si ocurre una división por cero, la ignoramos\n",
    "        return None  # Excepción por división por cero\n",
    "\n",
    "# Generar un conjunto aleatorio de datos\n",
    "random_expr, random_numbers, random_operations = generate_random_data()\n",
    "\n",
    "# Mostrar el conjunto de datos generado\n",
    "print(f\"Expresión generada: {random_expr}\")\n",
    "print(f\"Números seleccionados: {random_numbers}\")\n",
    "print(f\"Operaciones seleccionadas: {random_operations}\")\n",
    "\n",
    "# Evaluar la expresión\n",
    "result = evaluate_expression(random_numbers, random_operations)\n",
    "\n",
    "# Mostrar el resultado de la evaluación\n",
    "if result is not None:\n",
    "    print(f\"Resultado de la expresión: {result}\")\n",
    "else:\n",
    "    print(\"La expresión no generó un resultado válido (posiblemente por división por cero).\")"
   ]
  },
  {
   "cell_type": "markdown",
   "metadata": {
    "id": "eTFWUJQrtGcv"
   },
   "source": [
    "Enumera las referencias que has utilizado(si ha sido necesario) para llevar a cabo el trabajo"
   ]
  },
  {
   "cell_type": "markdown",
   "metadata": {
    "id": "YKQ_mRBttWsP"
   },
   "source": [
    "Respuesta"
   ]
  },
  {
   "cell_type": "markdown",
   "metadata": {
    "id": "kAkDPUyRtYyH"
   },
   "source": [
    "#Describe brevemente las lineas de como crees que es posible avanzar en el estudio del problema. Ten en cuenta incluso posibles variaciones del problema y/o variaciones al alza del tamaño"
   ]
  },
  {
   "cell_type": "markdown",
   "metadata": {
    "id": "IE0uZmo-tZu-"
   },
   "source": [
    "Respuesta:\n",
    "\n",
    "Para avanzar en el estudio del problema, se podría optimizar el algoritmo utilizando heurísticas y poda, paralelización, y estructuras de datos eficientes.\n",
    "\n",
    "Variar el problema incluyendo más operaciones, ampliar el rango de números, o agregar restricciones adicionales podría hacer el problema más desafiante y a medida que aumenta el tamaño de entrada, se necesitarían algoritmos de búsqueda local, programación dinámica o incluso algoritmos genéticos. La clave está en equilibrar optimización y exploración para manejar la complejidad creciente."
   ]
  },
  {
   "cell_type": "code",
   "execution_count": null,
   "metadata": {
    "id": "_2YBtIRcuN0K"
   },
   "outputs": [],
   "source": []
  }
 ],
 "metadata": {
  "colab": {
   "provenance": []
  },
  "kernelspec": {
   "display_name": "Python 3 (ipykernel)",
   "language": "python",
   "name": "python3"
  },
  "language_info": {
   "codemirror_mode": {
    "name": "ipython",
    "version": 3
   },
   "file_extension": ".py",
   "mimetype": "text/x-python",
   "name": "python",
   "nbconvert_exporter": "python",
   "pygments_lexer": "ipython3",
   "version": "3.9.6"
  }
 },
 "nbformat": 4,
 "nbformat_minor": 4
}
